{
  "nbformat": 4,
  "nbformat_minor": 0,
  "metadata": {
    "colab": {
      "provenance": []
    },
    "kernelspec": {
      "name": "python3",
      "display_name": "Python 3"
    },
    "language_info": {
      "name": "python"
    }
  },
  "cells": [
    {
      "cell_type": "markdown",
      "source": [
        "# Finding the Best Random Forest through Random Search\n",
        "\n",
        "Author: Mohamed Oussama NAJI\n",
        "\n",
        "Date: Feb 2, 2024"
      ],
      "metadata": {
        "id": "0qh6i_Mt2ONz"
      }
    },
    {
      "cell_type": "markdown",
      "source": [
        "## Introduction\n",
        "\n",
        "In order to maximize the performance of the random forest, we can perform a random search for better hyperparameters. This will randomly select combinations of hyperparameters from a grid, evaluate them using cross-validation on the training data, and return the values (best model with hyperparameters) that perform the best.\n"
      ],
      "metadata": {
        "id": "ugnGPC_Y2Rdj"
      }
    },
    {
      "cell_type": "markdown",
      "source": [
        "## Table of Contents\n",
        "1. [Random Forest Theory Revisited](#random-forest-theory)\n",
        "2. [Behavioral Risk Factor Surveillance System Dataset](#brfss-dataset)\n",
        "3. [Data Acquisition](#data-acquisition)\n",
        "4. [Data Exploration](#data-exploration)\n",
        "5. [Data Preprocessing](#data-preprocessing)\n",
        "   - [Label Distribution](#label-distribution)\n",
        "   - [Label Feature](#label-feature)\n",
        "   - [Splitting Data into Training and Testing Set](#data-split)\n",
        "   - [Imputation of Missing Values](#missing-values-imputation)\n",
        "6. [Random Search for Hyperparameter Tuning](#random-search)\n",
        "   - [Importing Required Libraries](#importing-libraries)\n",
        "   - [Setting the Parameter Grid](#parameter-grid)\n",
        "   - [Creating the Estimator](#creating-estimator)\n",
        "   - [Creating the Random Search Model](#creating-random-search-model)\n",
        "   - [Fitting the Model](#fitting-model)\n",
        "   - [Exploring the Best Parameters](#best-parameters)\n",
        "7. [Evaluating the Best Model](#evaluating-best-model)\n",
        "   - [Making Predictions](#making-predictions)\n",
        "   - [Getting Node Counts and Maximum Depths](#node-counts-max-depths)\n",
        "   - [Plotting ROC AUC Scores](#plotting-roc-auc)\n",
        "   - [Evaluating Model Performance](#evaluating-model-performance)\n",
        "   - [Plotting Confusion Matrix](#plotting-confusion-matrix)\n",
        "8. [Visualizing a Tree from the Optimized Forest](#visualizing-tree)\n",
        "9. [Conclusion](#conclusion)"
      ],
      "metadata": {
        "id": "1udZiya22UGb"
      }
    },
    {
      "cell_type": "markdown",
      "source": [
        "## Random Forest Theory Revisited <a id=\"random-forest-theory\"></a>\n",
        "\n",
        "Random Forest is a model made up of many decision trees. It uses two key concepts that give it the name \"random\":\n",
        "- Random sampling of training data points when building trees (bagging)\n",
        "- Random subsets of features considered when splitting nodes"
      ],
      "metadata": {
        "id": "anKInHB22WDR"
      }
    },
    {
      "cell_type": "markdown",
      "source": [
        "## Behavioral Risk Factor Surveillance System Dataset <a id=\"brfss-dataset\"></a>\n",
        "\n",
        "The Behavioral Risk Factor Surveillance System (BRFSS) is a health-related telephone survey conducted by the Centers for Disease Control and Prevention (CDC). It collects data on preventive health practices and risk behaviors linked to chronic diseases, injuries, and preventable infectious diseases in the adult population.\n"
      ],
      "metadata": {
        "id": "x7m9HmWv2XQS"
      }
    },
    {
      "cell_type": "markdown",
      "source": [
        "## Data Acquisition <a id=\"data-acquisition\"></a>\n"
      ],
      "metadata": {
        "id": "ZYB3zH-42YhZ"
      }
    },
    {
      "cell_type": "code",
      "source": [
        "import pandas as pd\n",
        "import numpy as np\n",
        "from matplotlib import pyplot as plt\n",
        "RSEED = 50\n",
        "\n",
        "df = pd.read_csv('2015.csv').sample(100000, random_state=RSEED)\n",
        "df.head()"
      ],
      "metadata": {
        "id": "UyFmH2LZ2aNw"
      },
      "execution_count": null,
      "outputs": []
    },
    {
      "cell_type": "markdown",
      "source": [
        "## Data Exploration <a id=\"data-exploration\"></a>\n"
      ],
      "metadata": {
        "id": "M1CXmm9v2bTx"
      }
    },
    {
      "cell_type": "code",
      "source": [
        "df = df.select_dtypes('number')\n",
        "df"
      ],
      "metadata": {
        "id": "pgc3uFfh2ccZ"
      },
      "execution_count": null,
      "outputs": []
    },
    {
      "cell_type": "markdown",
      "source": [
        "## Data Preprocessing <a id=\"data-preprocessing\"></a>\n"
      ],
      "metadata": {
        "id": "3H8mns7h2dV8"
      }
    },
    {
      "cell_type": "markdown",
      "source": [
        "### Label Distribution <a id=\"label-distribution\"></a>\n"
      ],
      "metadata": {
        "id": "nrZjVTyw2eU3"
      }
    },
    {
      "cell_type": "code",
      "source": [
        "df['_RFHLTH'].value_counts()"
      ],
      "metadata": {
        "id": "JtcYIPBk2fab"
      },
      "execution_count": null,
      "outputs": []
    },
    {
      "cell_type": "markdown",
      "source": [
        "### Label Feature <a id=\"label-feature\"></a>"
      ],
      "metadata": {
        "id": "SKyhR4N22hDn"
      }
    },
    {
      "cell_type": "code",
      "source": [
        "df['_RFHLTH'] = df['_RFHLTH'].replace({2: 0})\n",
        "df = df.loc[df['_RFHLTH'].isin([0, 1])].copy()\n",
        "df = df.rename(columns={'_RFHLTH': 'label'})\n",
        "df['label'].value_counts()"
      ],
      "metadata": {
        "id": "HzxnAI_d2lJD"
      },
      "execution_count": null,
      "outputs": []
    },
    {
      "cell_type": "code",
      "source": [
        "# Remove columns with missing values\n",
        "df = df.drop(columns=['POORHLTH', 'PHYSHLTH', 'GENHLTH', 'PAINACT2',\n",
        "                      'QLMENTL2', 'QLSTRES2', 'QLHLTH2', 'HLTHPLN1', 'MENTHLTH'])"
      ],
      "metadata": {
        "id": "ol9Vx7VO2ohW"
      },
      "execution_count": null,
      "outputs": []
    },
    {
      "cell_type": "markdown",
      "source": [
        "### Splitting Data into Training and Testing Set <a id=\"data-split\"></a>\n"
      ],
      "metadata": {
        "id": "2APbJRnm2q0-"
      }
    },
    {
      "cell_type": "code",
      "source": [
        "from sklearn.model_selection import train_test_split\n",
        "\n",
        "labels = np.array(df.pop('label'))\n",
        "\n",
        "train, test, train_labels, test_labels = train_test_split(df, labels,\n",
        "                                                          stratify=labels,\n",
        "                                                          test_size=0.3,\n",
        "                                                          random_state=RSEED)"
      ],
      "metadata": {
        "id": "7IsHw4Af2sng"
      },
      "execution_count": null,
      "outputs": []
    },
    {
      "cell_type": "markdown",
      "source": [
        "### Imputation of Missing Values <a id=\"missing-values-imputation\"></a>\n"
      ],
      "metadata": {
        "id": "h31INyZb2uCx"
      }
    },
    {
      "cell_type": "code",
      "source": [
        "train = train.fillna(train.mean())\n",
        "test = test.fillna(train.mean())\n",
        "\n",
        "features = list(train.columns)\n",
        "\n",
        "train.shape\n",
        "test.shape"
      ],
      "metadata": {
        "id": "SSmOMWw82vb9"
      },
      "execution_count": null,
      "outputs": []
    },
    {
      "cell_type": "markdown",
      "source": [
        "## Random Search for Hyperparameter Tuning <a id=\"random-search\"></a>\n"
      ],
      "metadata": {
        "id": "Yk2vUWld2wkJ"
      }
    },
    {
      "cell_type": "markdown",
      "source": [
        "### Importing Required Libraries <a id=\"importing-libraries\"></a>\n"
      ],
      "metadata": {
        "id": "l_IR9OcY2x-f"
      }
    },
    {
      "cell_type": "code",
      "source": [
        "from sklearn.model_selection import RandomizedSearchCV\n",
        "from sklearn.ensemble import RandomForestClassifier"
      ],
      "metadata": {
        "id": "f40SKkWw2zPj"
      },
      "execution_count": null,
      "outputs": []
    },
    {
      "cell_type": "markdown",
      "source": [
        "### Setting the Parameter Grid <a id=\"parameter-grid\"></a>\n"
      ],
      "metadata": {
        "id": "8oaRKkQx20k3"
      }
    },
    {
      "cell_type": "code",
      "source": [
        "parameter_grid = {\n",
        "    'n_estimators': np.arange(10, 201, 10),\n",
        "    'max_depth': np.arange(3, 21, 1),\n",
        "    'max_features': ['auto', 'sqrt', None] + list(np.arange(0.5, 1, 0.1)),\n",
        "    'max_leaf_nodes': np.arange(10, 51, 1),\n",
        "    'min_samples_split': [2, 5, 10],\n",
        "    'bootstrap': [True, False]\n",
        "}"
      ],
      "metadata": {
        "id": "vaeDoq0G22pQ"
      },
      "execution_count": null,
      "outputs": []
    },
    {
      "cell_type": "markdown",
      "source": [
        "### Creating the Estimator <a id=\"creating-estimator\"></a>\n"
      ],
      "metadata": {
        "id": "9Io8-VXG24q8"
      }
    },
    {
      "cell_type": "code",
      "source": [
        "RSEED = 50\n",
        "estimator = RandomForestClassifier(random_state=RSEED)"
      ],
      "metadata": {
        "id": "MWg0jMJU25yP"
      },
      "execution_count": null,
      "outputs": []
    },
    {
      "cell_type": "markdown",
      "source": [
        "### Creating the Random Search Model <a id=\"creating-random-search-model\"></a>\n"
      ],
      "metadata": {
        "id": "r48gY1yr26y7"
      }
    },
    {
      "cell_type": "code",
      "source": [
        "random_search = RandomizedSearchCV(estimator, parameter_grid, cv=3, n_iter=10, scoring='roc_auc', random_state=RSEED, verbose=2)"
      ],
      "metadata": {
        "id": "gc2l0mcH27-8"
      },
      "execution_count": null,
      "outputs": []
    },
    {
      "cell_type": "markdown",
      "source": [
        "### Fitting the Model <a id=\"fitting-model\"></a>\n"
      ],
      "metadata": {
        "id": "D_74kuyo29Wh"
      }
    },
    {
      "cell_type": "code",
      "source": [
        "random_search.fit(train, train_labels)"
      ],
      "metadata": {
        "id": "I-sTkAW02-bg"
      },
      "execution_count": null,
      "outputs": []
    },
    {
      "cell_type": "markdown",
      "source": [
        "### Exploring the Best Parameters <a id=\"best-parameters\"></a>"
      ],
      "metadata": {
        "id": "QGE1-RWV2_9b"
      }
    },
    {
      "cell_type": "code",
      "source": [
        "best_params = random_search.best_params_\n",
        "print(\"Best parameters: \")\n",
        "print(best_params)\n",
        "\n",
        "best_model = random_search.best_estimator_"
      ],
      "metadata": {
        "id": "zAr_QHb-3BgA"
      },
      "execution_count": null,
      "outputs": []
    },
    {
      "cell_type": "markdown",
      "source": [
        "## Evaluating the Best Model <a id=\"evaluating-best-model\"></a>"
      ],
      "metadata": {
        "id": "IKqi25Y_3Car"
      }
    },
    {
      "cell_type": "markdown",
      "source": [
        "### Making Predictions <a id=\"making-predictions\"></a>"
      ],
      "metadata": {
        "id": "oCUHHaBx3EB-"
      }
    },
    {
      "cell_type": "code",
      "source": [
        "predictions = best_model.predict(test)"
      ],
      "metadata": {
        "id": "VXu2F65y3FPE"
      },
      "execution_count": null,
      "outputs": []
    },
    {
      "cell_type": "markdown",
      "source": [
        "### Getting Node Counts and Maximum Depths <a id=\"node-counts-max-depths\"></a>"
      ],
      "metadata": {
        "id": "f4RhlmVX3GdO"
      }
    },
    {
      "cell_type": "code",
      "source": [
        "node_counts = [estimator.tree_.node_count for estimator in best_model.estimators_]\n",
        "max_depths = [estimator.tree_.max_depth for estimator in best_model.estimators_]\n",
        "\n",
        "print(\"Node counts for the trees in the forest:\", node_counts)\n",
        "print(\"Maximum depths for the trees in the forest:\", max_depths)"
      ],
      "metadata": {
        "id": "riIY7Lbf3IJH"
      },
      "execution_count": null,
      "outputs": []
    },
    {
      "cell_type": "markdown",
      "source": [
        "### Plotting ROC AUC Scores <a id=\"plotting-roc-auc\"></a>\n"
      ],
      "metadata": {
        "id": "cBC89WVk3JOm"
      }
    },
    {
      "cell_type": "code",
      "source": [
        "from sklearn.metrics import roc_auc_score, roc_curve\n",
        "import matplotlib.pyplot as plt\n",
        "\n",
        "roc_auc_train = roc_auc_score(train_labels, best_model.predict_proba(train)[:, 1])\n",
        "roc_auc_test = roc_auc_score(test_labels, best_model.predict_proba(test)[:, 1])\n",
        "\n",
        "fpr, tpr, _ = roc_curve(test_labels, best_model.predict_proba(test)[:, 1])\n",
        "\n",
        "plt.figure(figsize=(8, 6))\n",
        "plt.plot(fpr, tpr, label=f'Test ROC AUC = {roc_auc_test:.2f}')\n",
        "plt.plot([0, 1], [0, 1], 'k--')\n",
        "plt.xlabel('False Positive Rate')\n",
        "plt.ylabel('True Positive Rate')\n",
        "plt.title('ROC Curve')\n",
        "plt.legend(loc='lower right')\n",
        "plt.show()\n",
        "\n",
        "print(f\"ROC AUC Score on Training Data: {roc_auc_train:.2f}\")\n",
        "print(f\"ROC AUC Score on Testing Data: {roc_auc_test:.2f}\")\n"
      ],
      "metadata": {
        "id": "pS0e8VNM3LXg"
      },
      "execution_count": null,
      "outputs": []
    },
    {
      "cell_type": "markdown",
      "source": [
        "### Evaluating Model Performance <a id=\"evaluating-model-performance\"></a>\n"
      ],
      "metadata": {
        "id": "plnZWOvd3MV-"
      }
    },
    {
      "cell_type": "code",
      "source": [
        "from sklearn.metrics import recall_score, precision_score, roc_auc_score, roc_curve\n",
        "\n",
        "train_predictions = best_model.predict(train)\n",
        "train_probs = best_model.predict_proba(train)[:, 1]\n",
        "\n",
        "predictions = best_model.predict(test)\n",
        "probs = best_model.predict_proba(test)[:, 1]\n",
        "\n",
        "evaluate_model(predictions, probs, train_predictions, train_probs)"
      ],
      "metadata": {
        "id": "LlBbF0og3OJT"
      },
      "execution_count": null,
      "outputs": []
    },
    {
      "cell_type": "markdown",
      "source": [
        "### Plotting Confusion Matrix <a id=\"plotting-confusion-matrix\"></a>\n"
      ],
      "metadata": {
        "id": "1rNGI5M43PNj"
      }
    },
    {
      "cell_type": "code",
      "source": [
        "from sklearn.metrics import confusion_matrix\n",
        "import itertools\n",
        "\n",
        "cm = confusion_matrix(test_labels, predictions)\n",
        "classes = ['0.0', '1.0']\n",
        "\n",
        "plot_confusion_matrix(cm, classes=classes, normalize=False, title='Confusion Matrix')"
      ],
      "metadata": {
        "id": "fD6KCdsU3RAz"
      },
      "execution_count": null,
      "outputs": []
    },
    {
      "cell_type": "markdown",
      "source": [
        "## Visualizing a Tree from the Optimized Forest <a id=\"visualizing-tree\"></a>\n"
      ],
      "metadata": {
        "id": "WiY2aUXl3SK3"
      }
    },
    {
      "cell_type": "code",
      "source": [
        "from sklearn.tree import export_graphviz\n",
        "from subprocess import call\n",
        "from IPython.display import Image\n",
        "\n",
        "estimator = best_model.estimators_[1]\n",
        "\n",
        "export_graphviz(estimator, 'tree_from_optimized_forest.dot', rounded=True,\n",
        "                feature_names=train.columns, max_depth=8,\n",
        "                class_names=['poverty', 'no poverty'], filled=True)\n",
        "\n",
        "call(['dot', '-Tpng', 'tree_from_optimized_forest.dot', '-o', 'tree_from_optimized_forest.png', '-Gdpi=200'])\n",
        "Image('tree_from_optimized_forest.png')"
      ],
      "metadata": {
        "id": "5dr3X5o13Tmb"
      },
      "execution_count": null,
      "outputs": []
    },
    {
      "cell_type": "markdown",
      "source": [
        "## Conclusion <a id=\"conclusion\"></a>\n",
        "\n",
        "In this notebook, we explored the process of finding the best random forest model using random search for hyperparameter tuning. We used the Behavioral Risk Factor Surveillance System dataset to predict the overall health of individuals.\n",
        "\n",
        "The random search process involved defining a parameter grid with various hyperparameter values and randomly sampling from this grid to train and evaluate multiple random forest models. The best model was selected based on the highest ROC AUC score.\n",
        "\n",
        "The evaluation of the best model showed a good balance between correctly identifying both \"Good Health\" and \"Poor Health\" individuals. The model achieved a high ROC AUC score on both the training and testing data, indicating its effectiveness in predicting health outcomes.\n",
        "\n",
        "We also visualized a tree from the optimized forest to gain insights into the decision-making process of the model.\n",
        "\n",
        "Overall, this notebook demonstrates the power of random search for hyperparameter tuning in optimizing the performance of random forest models. By systematically exploring different hyperparameter combinations, we can find the best model that suits our specific problem and dataset."
      ],
      "metadata": {
        "id": "ngRE6y3O3X9b"
      }
    }
  ]
}